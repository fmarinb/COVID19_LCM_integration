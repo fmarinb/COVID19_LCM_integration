{
 "cells": [
  {
   "cell_type": "markdown",
   "metadata": {},
   "source": [
    "# Workflow #\n",
    "\n",
    "The pipeline consists of (i), creation or reloading of the work area via Get_Data(), (ii) creation of the repertoire classification model via Monte_Carlo_CrossVal(), and (iii) representation of the AUC-ROC curve. In case of positive results in the classification model, the pipeline has continued with (iv) identification of motifs by Motif_Identification() and obtaining the Residue Sensitivity Logos for each cluster (v). This workflow has been applied in all supervised analysis scripts. The procedure has been developed given the scripts deposited at https://github.com/sidhomj/DeepTCR_COVID19, whose results are published at https://doi.org/10.1038/s41598-021-93608-8\n",
    "\n",
    "**Important** The supervised model analyses stored in the .ipynb *cluster1vcluster2*, *cluster1vcluster3*, *cluster2vcluster3* and *severity* scripts have the same structure and code blocks (except the RSL logo code blocks in *cluster2vcluster3* and *severity* files), with corresponding differences in terms of sample directories, variable and file names. Therefore, for further simplification, more detailed workflow comments have been added in the *cluster1vcluster3.ipynb* script, applicable to the rest of the scripts, which retain basic documentation."
   ]
  },
  {
   "cell_type": "code",
   "execution_count": null,
   "metadata": {},
   "outputs": [],
   "source": [
    "import sys\n",
    "import pandas as pd\n",
    "import numpy as np\n",
    "sys.path.append('../../')\n",
    "from DeepTCR.DeepTCR import DeepTCR_WF\n",
    "import pickle"
   ]
  },
  {
   "cell_type": "code",
   "execution_count": null,
   "metadata": {},
   "outputs": [],
   "source": [
    "DTCR_CT12 = DeepTCR_WF('CT1_CT2')\n",
    "classes = ['ct1', 'ct2'] # Definition of classes of samples we compare\n",
    "DTCR_CT12.Get_Data('ct1_ct2',\n",
    "              Load_Prev_Data=False,\n",
    "              aa_column_beta=0,\n",
    "              v_beta_column=2,\n",
    "              j_beta_column=3,\n",
    "              count_column=1,\n",
    "              data_cut=1000, # Selecting to 1000 expanded clonotypes\n",
    "              type_of_data_cut='Num_Seq',\n",
    "              aggregate_by_aa=True,  # Preventing redundancy bias of repeated clonotypes by aminoacid sequence\n",
    "              classes=classes)"
   ]
  },
  {
   "cell_type": "code",
   "execution_count": null,
   "metadata": {},
   "outputs": [],
   "source": [
    "folds = 100 # 100 fold Monte-Carlo cross validation\n",
    "epochs_min = 25\n",
    "size_of_net = 'small'\n",
    "num_concepts=64\n",
    "hinge_loss_t = 0.1\n",
    "train_loss_min=0.1\n",
    "seeds = np.array(range(folds))\n",
    "graph_seed = 0\n",
    "\n",
    "DTCR_CT12.Monte_Carlo_CrossVal(folds=folds,epochs_min=epochs_min,size_of_net=size_of_net,num_concepts=num_concepts,\n",
    "                          train_loss_min=train_loss_min,combine_train_valid=True, # Enabling multi-sample dropout rate\n",
    "                          hinge_loss_t=hinge_loss_t, # Enabling by class weigthing\n",
    "                          multisample_dropout=True,\n",
    "                          weight_by_class =True,\n",
    "                          seeds=seeds,graph_seed=graph_seed, \n",
    "                          subsample=100 )  # Subsampling 100 sequences each fold during training"
   ]
  },
  {
   "cell_type": "code",
   "execution_count": null,
   "metadata": {},
   "outputs": [],
   "source": [
    "DTCR_CT12.AUC_Curve(filename='AUC_ct1ct2.tif', title='AUC-ROC curves from Cluster 1 and cluster 2 Samples')"
   ]
  },
  {
   "cell_type": "code",
   "execution_count": null,
   "metadata": {},
   "outputs": [],
   "source": [
    "DTCR_CT12.Motif_Identification('ct1', by_samples=True) # Enablig by sample motif identification instead of at sequence level\n",
    "DTCR_CT12.Motif_Identification('ct2', by_samples=True)"
   ]
  },
  {
   "cell_type": "code",
   "execution_count": 10,
   "metadata": {},
   "outputs": [],
   "source": [
    "# Data frame of each sequence's AUC for each clusters during model performance using the test partition\n",
    "\n",
    "with open('ct12_model_preds.pkl','wb') as f:\n",
    "    pickle.dump(DTCR_CT13.DFs_pred,f,protocol=4)\n",
    "\n",
    "with open('ct12_model_seq_preds.pkl', 'wb') as f:\n",
    "    pickle.dump((DTCR_CT13.predicted,DTCR_CT13.beta_sequences,DTCR_CT13.lb), f, protocol=4) \n",
    "\n",
    "with open('ct12_model_seq_preds.pkl', 'rb') as f:\n",
    "    predicted, beta_sequences,lb = pickle.load(f)\n",
    "\n",
    "df = pd.DataFrame()\n",
    "df['beta_sequences'] = beta_sequences\n",
    "df[lb.classes_[0]] = predicted[:,0]\n",
    "df[lb.classes_[1]] = predicted[:,1]\n"
   ]
  },
  {
   "cell_type": "code",
   "execution_count": 11,
   "metadata": {},
   "outputs": [],
   "source": [
    "sel = 0\n",
    "cl = lb.classes_[sel]\n",
    "df.sort_values(by=cl,inplace=True,ascending=False)"
   ]
  },
  {
   "cell_type": "code",
   "execution_count": null,
   "metadata": {},
   "outputs": [],
   "source": [
    "fig12_ct1,ax = DTCR_CT23.Residue_Sensitivity_Logo(beta_sequences=np.array(df['beta_sequences'])[0:25] , # top 25 sequences with the highest AUC for cluster 1,\n",
    "                              class_sel=cl,figsize=(5,10),background_color='white',Load_Prev_Data=False,\n",
    "                              min_size=0.25,  low_color='blue', medium_color='yellow', high_color='red')\n",
    "fig12_ct1.savefig('rsl_ct12_ct1.png',\n",
    "            dpi=1200,facecolor='black')"
   ]
  },
  {
   "cell_type": "code",
   "execution_count": null,
   "metadata": {},
   "outputs": [],
   "source": [
    "sel = 1\n",
    "cl = lb.classes_[sel]\n",
    "df.sort_values(by=cl,inplace=True,ascending=False)"
   ]
  },
  {
   "cell_type": "code",
   "execution_count": null,
   "metadata": {},
   "outputs": [],
   "source": [
    "fig12_ct2,ax = DTCR_CT12.Residue_Sensitivity_Logo(beta_sequences=np.array(df['beta_sequences'])[0:25], # top 25 sequences with the highest AUC for cluster 2,\n",
    "                              class_sel=cl,figsize=(5,10),background_color='white',Load_Prev_Data=False,\n",
    "                              min_size=0.25,  low_color='blue', medium_color='yellow', high_color='red')\n",
    "fig12_ct2.savefig('rsl_ct12_ct2.png',\n",
    "            dpi=1200,facecolor='black')"
   ]
  }
 ],
 "metadata": {
  "kernelspec": {
   "display_name": "dptcr2",
   "language": "python",
   "name": "python3"
  },
  "language_info": {
   "codemirror_mode": {
    "name": "ipython",
    "version": 3
   },
   "file_extension": ".py",
   "mimetype": "text/x-python",
   "name": "python",
   "nbconvert_exporter": "python",
   "pygments_lexer": "ipython3",
   "version": "3.7.17"
  }
 },
 "nbformat": 4,
 "nbformat_minor": 2
}

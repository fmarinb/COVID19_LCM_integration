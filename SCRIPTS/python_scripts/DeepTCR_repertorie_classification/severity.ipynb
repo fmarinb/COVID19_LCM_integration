{
 "cells": [
  {
   "cell_type": "markdown",
   "metadata": {},
   "source": [
    "# Workflow #\n",
    "\n",
    "The pipeline consists of (i), creation or reloading of the work area via Get_Data(), (ii) creation of the repertoire classification model via Monte_Carlo_CrossVal(), and (iii) representation of the AUC-ROC curve. In case of positive results in the classification model, the pipeline has continued with (iv) identification of motifs by Motif_Identification() and obtaining the Residue Sensitivity Logos for each cluster (v). This workflow has been applied in all supervised analysis scripts. The procedure has been developed given the scripts deposited at https://github.com/sidhomj/DeepTCR_COVID19, whose results are published at https://doi.org/10.1038/s41598-021-93608-8\n",
    "\n",
    "**Important** The supervised model analyses stored in the .ipynb *cluster1vcluster2*, *cluster1vcluster3*, *cluster2vcluster3* and *severity* scripts have the same structure and code blocks (except the RSL logo code blocks in *cluster2vcluster3* and *severity* files), with corresponding differences in terms of sample directories, variable and file names. Therefore, for further simplification, more detailed workflow comments have been added in the *cluster1vcluster3.ipynb* script, applicable to the rest of the scripts, which retain basic documentation."
   ]
  },
  {
   "cell_type": "code",
   "execution_count": null,
   "metadata": {},
   "outputs": [],
   "source": [
    "import sys\n",
    "import pandas as pd\n",
    "import numpy as np\n",
    "sys.path.append('../../')\n",
    "from DeepTCR.DeepTCR import DeepTCR_WF\n",
    "import pickle"
   ]
  },
  {
   "cell_type": "code",
   "execution_count": null,
   "metadata": {},
   "outputs": [],
   "source": [
    "DTCR_sev = DeepTCR_WF('SEVERITY')\n",
    "classes = ['Mild', 'Severe'] # Definition of classes of samples we compare\n",
    "DTCR_sev.Get_Data('Severity',\n",
    "              Load_Prev_Data=False,\n",
    "              aa_column_beta=0,\n",
    "              v_beta_column=2,\n",
    "              j_beta_column=3,\n",
    "              count_column=1,\n",
    "              data_cut=1000,\n",
    "              type_of_data_cut='Num_Seq', # Selecting to 1000 expanded clonotypes\n",
    "              aggregate_by_aa=True) # Preventing redundancy bias of repeated clonotypes by aminoacid sequence"
   ]
  },
  {
   "cell_type": "code",
   "execution_count": null,
   "metadata": {},
   "outputs": [],
   "source": [
    "folds = 100 # 100 fold Monte-Carlo cross validation\n",
    "epochs_min = 25\n",
    "size_of_net = 'small'\n",
    "num_concepts=64 # Tested as the best option for a better model's perfomance for our data\n",
    "hinge_loss_t = 0.1\n",
    "train_loss_min=0.1\n",
    "seeds = np.array(range(folds))\n",
    "graph_seed = 0\n",
    "#\n",
    "DTCR_sev.Monte_Carlo_CrossVal(folds=folds,epochs_min=epochs_min,size_of_net=size_of_net,num_concepts=num_concepts,\n",
    "                          train_loss_min=train_loss_min,combine_train_valid=True,\n",
    "                          hinge_loss_t=hinge_loss_t,\n",
    "                          multisample_dropout=True, # Enabling multi-sample dropout rate\n",
    "                          weight_by_class =True, # Enabling by class weigthing\n",
    "                          seeds=seeds,graph_seed=graph_seed, subsample=100 ) # Subsampling 100 sequences each fold during training"
   ]
  },
  {
   "cell_type": "code",
   "execution_count": null,
   "metadata": {},
   "outputs": [],
   "source": [
    "DTCR_sev.AUC_Curve(filename='AUC_severity.tif', title='AUC-ROC curves from Mild and Severe Samples')"
   ]
  }
 ],
 "metadata": {
  "kernelspec": {
   "display_name": "dptcr2",
   "language": "python",
   "name": "python3"
  },
  "language_info": {
   "codemirror_mode": {
    "name": "ipython",
    "version": 3
   },
   "file_extension": ".py",
   "mimetype": "text/x-python",
   "name": "python",
   "nbconvert_exporter": "python",
   "pygments_lexer": "ipython3",
   "version": "3.7.17"
  }
 },
 "nbformat": 4,
 "nbformat_minor": 2
}
